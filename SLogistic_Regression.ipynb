{
  "cells": [
    {
      "cell_type": "code",
      "execution_count": 15,
      "metadata": {
        "id": "43W-WucrgSeW"
      },
      "outputs": [],
      "source": [
        "import pandas as pd\n",
        "from sklearn.linear_model import LogisticRegression"
      ]
    },
    {
      "cell_type": "code",
      "execution_count": null,
      "metadata": {
        "id": "dNSIIPUQgSed"
      },
      "outputs": [],
      "source": [
        "#Load the data set\n",
        "claimants = pd.read_csv(\"claimants.csv\")\n",
        "claimants.head()"
      ]
    },
    {
      "cell_type": "code",
      "execution_count": 17,
      "metadata": {
        "colab": {
          "base_uri": "https://localhost:8080/"
        },
        "id": "Dr9JZDPVUnXN",
        "outputId": "843c4cd8-42bd-4fa6-f2ff-ce68d9869065"
      },
      "outputs": [
        {
          "output_type": "execute_result",
          "data": {
            "text/plain": [
              "(1340, 7)"
            ]
          },
          "metadata": {},
          "execution_count": 17
        }
      ],
      "source": [
        "claimants.shape"
      ]
    },
    {
      "cell_type": "code",
      "execution_count": 18,
      "metadata": {
        "id": "RMhkK8ejgSee"
      },
      "outputs": [],
      "source": [
        "# dropping the case number columns as it is not required\n",
        "claimants.drop([\"CASENUM\"],inplace=True,axis = 1) # inplace=T means within the same dataset it removes the column"
      ]
    },
    {
      "cell_type": "code",
      "execution_count": null,
      "metadata": {
        "id": "1EqQiXUngSef"
      },
      "outputs": [],
      "source": [
        "#Shape of the data set\n",
        "claimants.shape"
      ]
    },
    {
      "cell_type": "code",
      "execution_count": null,
      "metadata": {
        "id": "AFZPh9yqgSeg"
      },
      "outputs": [],
      "source": [
        "# Removing NA values in data set\n",
        "claimants = claimants.dropna()\n",
        "claimants.shape"
      ]
    },
    {
      "cell_type": "code",
      "source": [
        "claimants.head()"
      ],
      "metadata": {
        "id": "EXBbX9nRi_pV"
      },
      "execution_count": null,
      "outputs": []
    },
    {
      "cell_type": "code",
      "execution_count": 22,
      "metadata": {
        "id": "X_SHgA2UgSeg"
      },
      "outputs": [],
      "source": [
        "# Dividing our data into input and output variables\n",
        "X = claimants.iloc[:,1:] # Indepedendent variable set - CLMSEX\tCLMINSUR\tSEATBELT\tCLMAGE\tLOSS\n",
        "Y = claimants.iloc[:,0] # Dependent variable set - ATTORNEY"
      ]
    },
    {
      "cell_type": "code",
      "execution_count": null,
      "metadata": {
        "id": "j49xapYzgSeh"
      },
      "outputs": [],
      "source": [
        "#Logistic regression and fit the model\n",
        "classifier = LogisticRegression() # initialize the model i.e. called instance creation of class object.\n",
        "# First create object 'classifier' for class LogisticRegression\n",
        "classifier.fit(X,Y) # Then use this object to fit the model. This is the std methodology to build any algo. in sklearn"
      ]
    },
    {
      "cell_type": "code",
      "execution_count": 24,
      "metadata": {
        "id": "s0zRgneIgSej"
      },
      "outputs": [],
      "source": [
        "#Predict for X dataset\n",
        "y_pred = classifier.predict(X)"
      ]
    },
    {
      "cell_type": "code",
      "execution_count": 25,
      "metadata": {
        "colab": {
          "base_uri": "https://localhost:8080/"
        },
        "id": "rhwDQXykz2I5",
        "outputId": "18ee9851-3dcf-4647-b68c-a77f2d173496"
      },
      "outputs": [
        {
          "output_type": "execute_result",
          "data": {
            "text/plain": [
              "array([0, 1, 1, ..., 1, 0, 1])"
            ]
          },
          "metadata": {},
          "execution_count": 25
        }
      ],
      "source": [
        "y_pred # y hat values for x"
      ]
    },
    {
      "cell_type": "code",
      "execution_count": 26,
      "metadata": {
        "id": "0vgqAkcUgSek"
      },
      "outputs": [],
      "source": [
        "y_pred_df= pd.DataFrame({'actual': Y,\n",
        "                         'predicted_prob': classifier.predict(X)})"
      ]
    },
    {
      "cell_type": "code",
      "execution_count": null,
      "metadata": {
        "id": "0LL-o9gJgSel"
      },
      "outputs": [],
      "source": [
        "y_pred_df"
      ]
    },
    {
      "cell_type": "code",
      "execution_count": 29,
      "metadata": {
        "colab": {
          "base_uri": "https://localhost:8080/"
        },
        "id": "h4W52M5VgSem",
        "outputId": "cf29b223-e1a9-445e-9d0a-fca6db61063c"
      },
      "outputs": [
        {
          "output_type": "stream",
          "name": "stdout",
          "text": [
            "[[381 197]\n",
            " [123 395]]\n"
          ]
        }
      ],
      "source": [
        "# Confusion Matrix for the model accuracy  TP   FP\n",
        "#                                          FN   TN\n",
        "from sklearn.metrics import confusion_matrix\n",
        "confusion_matrix = confusion_matrix(Y,y_pred)\n",
        "print (confusion_matrix)"
      ]
    },
    {
      "cell_type": "code",
      "execution_count": 30,
      "metadata": {
        "colab": {
          "base_uri": "https://localhost:8080/"
        },
        "id": "6G9cxm8bgSem",
        "outputId": "983178aa-c26f-4e38-f11e-e29125db1c8c"
      },
      "outputs": [
        {
          "output_type": "execute_result",
          "data": {
            "text/plain": [
              "70.8029197080292"
            ]
          },
          "metadata": {},
          "execution_count": 30
        }
      ],
      "source": [
        "((381+395)/(381+197+123+395))*100 #Accuracy"
      ]
    },
    {
      "cell_type": "code",
      "execution_count": null,
      "metadata": {
        "id": "G7gpJaDsgSen"
      },
      "outputs": [],
      "source": [
        "# ROC Curve"
      ]
    },
    {
      "cell_type": "code",
      "execution_count": null,
      "metadata": {
        "id": "Rxi9EzrbgSeo"
      },
      "outputs": [],
      "source": [
        "from sklearn.metrics import roc_curve #roc-receiver operating characteristic\n",
        "from sklearn.metrics import roc_auc_score # auc-area under curve\n",
        "\n",
        "fpr, tpr, thresholds = roc_curve(Y, classifier.predict_proba(X)[:,1])\n",
        "# we want to predict probability values for x data\n",
        "# predict_proba returns probability estimates for all classes\n",
        "# and the results are ordered by the label of classes i.e. 0 and 1.\n",
        "# [:,1] will get the predicted probabilities of the positive label only\n",
        "# here we will get false positive rate, true positive rate and threshold values\n",
        "auc = roc_auc_score(Y, y_pred)# compute roc_auc_score based on y and y predicted\n",
        "\n",
        "import matplotlib.pyplot as plt\n",
        "plt.plot(fpr, tpr, color='red')\n",
        "plt.plot([0, 1], [0, 1], 'k--')# x axis range is 0 to 1, y axis range is 0 to 1, k-- is a line type - dotted\n",
        "plt.xlabel('False Positive Rate or [1 - True Negative Rate]')\n",
        "plt.ylabel('True Positive Rate')\n",
        "plt.show() # red one is roc curve"
      ]
    },
    {
      "cell_type": "code",
      "execution_count": 32,
      "metadata": {
        "colab": {
          "base_uri": "https://localhost:8080/"
        },
        "id": "HF-swMWxgSeo",
        "outputId": "5ca3530c-51bf-4411-d765-7033678c07bb"
      },
      "outputs": [
        {
          "output_type": "execute_result",
          "data": {
            "text/plain": [
              "0.7108589063606365"
            ]
          },
          "metadata": {},
          "execution_count": 32
        }
      ],
      "source": [
        "auc"
      ]
    }
  ],
  "metadata": {
    "colab": {
      "provenance": []
    },
    "kernelspec": {
      "display_name": "Python 3",
      "language": "python",
      "name": "python3"
    },
    "language_info": {
      "codemirror_mode": {
        "name": "ipython",
        "version": 3
      },
      "file_extension": ".py",
      "mimetype": "text/x-python",
      "name": "python",
      "nbconvert_exporter": "python",
      "pygments_lexer": "ipython3",
      "version": "3.7.4"
    }
  },
  "nbformat": 4,
  "nbformat_minor": 0
}