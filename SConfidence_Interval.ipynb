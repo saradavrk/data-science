{
  "nbformat": 4,
  "nbformat_minor": 0,
  "metadata": {
    "kernelspec": {
      "display_name": "Python 3",
      "language": "python",
      "name": "python3"
    },
    "language_info": {
      "codemirror_mode": {
        "name": "ipython",
        "version": 3
      },
      "file_extension": ".py",
      "mimetype": "text/x-python",
      "name": "python",
      "nbconvert_exporter": "python",
      "pygments_lexer": "ipython3",
      "version": "3.7.4"
    },
    "colab": {
      "provenance": []
    }
  },
  "cells": [
    {
      "cell_type": "code",
      "metadata": {
        "id": "POmm8nss1aLc"
      },
      "source": [
        "from scipy import stats\n",
        "import pandas as pd\n",
        "import numpy as np"
      ],
      "execution_count": 1,
      "outputs": []
    },
    {
      "cell_type": "code",
      "source": [
        "ls #displays files in current working folder"
      ],
      "metadata": {
        "colab": {
          "base_uri": "https://localhost:8080/"
        },
        "id": "Ut4cXCGNqYbO",
        "outputId": "868d0d9e-acb9-4bfe-e123-555d6920087b"
      },
      "execution_count": null,
      "outputs": [
        {
          "output_type": "stream",
          "name": "stdout",
          "text": [
            "beml_df.csv  glaxo_df.csv  \u001b[0m\u001b[01;34msample_data\u001b[0m/\n"
          ]
        }
      ]
    },
    {
      "cell_type": "code",
      "source": [
        "import os\n",
        "os.getcwd()"
      ],
      "metadata": {
        "colab": {
          "base_uri": "https://localhost:8080/",
          "height": 35
        },
        "id": "g-DFHm0-sWdo",
        "outputId": "20c6920e-cc9a-4f90-d22e-a1e00f600732"
      },
      "execution_count": null,
      "outputs": [
        {
          "output_type": "execute_result",
          "data": {
            "text/plain": [
              "'/content'"
            ],
            "application/vnd.google.colaboratory.intrinsic+json": {
              "type": "string"
            }
          },
          "metadata": {},
          "execution_count": 3
        }
      ]
    },
    {
      "cell_type": "code",
      "source": [
        "glaxo_df=pd.read_csv('/content/glaxo_df.csv')\n",
        "glaxo_df"
      ],
      "metadata": {
        "id": "-51wm6EE_H8y"
      },
      "execution_count": null,
      "outputs": []
    },
    {
      "cell_type": "markdown",
      "source": [
        "# **Confidence Interval using Normal Distribution**"
      ],
      "metadata": {
        "id": "HqYF-JPgv2ps"
      }
    },
    {
      "cell_type": "code",
      "metadata": {
        "id": "iKYR7-Ta1aLl",
        "colab": {
          "base_uri": "https://localhost:8080/"
        },
        "outputId": "e20458cd-6f0b-490f-89b2-577c800b54bd"
      },
      "source": [
        "#Find confidence interval first using normal distribution\n",
        "# here stats.norm.interval() will give you directly conf.interval for 95 % confidence. No need to do other calculations.\n",
        "glaxo_df_ci = stats.norm.interval(0.95,\n",
        "loc = glaxo_df.gain.mean(),\n",
        "scale = glaxo_df.gain.std())\n",
        "print( 'Mean at 95% confidence interval is:', np.round(glaxo_df_ci, 4))\n",
        "#For Glaxo max profit or loss can be expected in between -2.5% to 2.6% in a particular day."
      ],
      "execution_count": 4,
      "outputs": [
        {
          "output_type": "stream",
          "name": "stdout",
          "text": [
            "Mean at 95% confidence interval is: [-0.0258  0.0266]\n"
          ]
        }
      ]
    },
    {
      "cell_type": "code",
      "source": [
        "beml_df=pd.read_csv('/content/beml_df.csv')\n",
        "beml_df"
      ],
      "metadata": {
        "id": "Qy0M-TRr_mw6"
      },
      "execution_count": null,
      "outputs": []
    },
    {
      "cell_type": "code",
      "source": [
        "beml_df_ci=stats.norm.interval(0.95,loc = beml_df.gain.mean(),scale = beml_df.gain.std())\n",
        "print( 'Mean at 95% confidence interval is:', np.round(beml_df_ci, 4))\n",
        "#For BEML max profit or loss can be expected in between -5.1% to 5.2% in a particular day."
      ],
      "metadata": {
        "colab": {
          "base_uri": "https://localhost:8080/"
        },
        "id": "c8Q_yz-aAlXV",
        "outputId": "daecbdca-4087-48cf-9c8c-4b0b9f6269d0"
      },
      "execution_count": null,
      "outputs": [
        {
          "output_type": "stream",
          "name": "stdout",
          "text": [
            "Mean at 95% confidence interval is: [-0.0515  0.0521]\n"
          ]
        }
      ]
    },
    {
      "cell_type": "markdown",
      "source": [
        "# **Confidence interval using t-distribution**"
      ],
      "metadata": {
        "id": "bgcU7CfBvkK9"
      }
    },
    {
      "cell_type": "code",
      "source": [
        "glaxo_df_ci=stats.t.interval(0.95,1737,\n",
        "                             loc = glaxo_df.gain.mean(),\n",
        "                             scale = glaxo_df.gain.std())\n",
        "glaxo_df_ci #0.95 - confidence, 1737 - degrees of freedom, loc - mean, scale - std deviation"
      ],
      "metadata": {
        "id": "cMez051QwCsT"
      },
      "execution_count": null,
      "outputs": []
    },
    {
      "cell_type": "code",
      "source": [
        "beml_df_ci=stats.t.interval(0.95,1737,\n",
        "                             loc = beml_df.gain.mean(),\n",
        "                             scale = beml_df.gain.std())\n",
        "beml_df_ci #0.95 - confidence, 1737 - degrees of freedom (n-1), loc - mean, scale - std deviation"
      ],
      "metadata": {
        "colab": {
          "base_uri": "https://localhost:8080/"
        },
        "id": "YyjSL3GNwfeb",
        "outputId": "e578432b-3baa-4702-e10c-e7295affd3d9"
      },
      "execution_count": 7,
      "outputs": [
        {
          "output_type": "execute_result",
          "data": {
            "text/plain": [
              "(-0.05156885177136772, 0.05211034792948219)"
            ]
          },
          "metadata": {},
          "execution_count": 7
        }
      ]
    },
    {
      "cell_type": "code",
      "source": [
        "#Find confidence interval using t distribution - Credit card example\n",
        "stats.t.ppf(0.975,139) # t value for 95% confidence\n",
        "#stats.t.ppf(0.95,139) # t value for 90% confidence"
      ],
      "metadata": {
        "id": "ZzdfBWtsxfDG"
      },
      "execution_count": null,
      "outputs": []
    }
  ]
}